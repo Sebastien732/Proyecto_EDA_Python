{
 "cells": [
  {
   "cell_type": "code",
   "execution_count": 6,
   "id": "cdd0c97f",
   "metadata": {},
   "outputs": [],
   "source": [
    "import pandas as pd\n"
   ]
  },
  {
   "cell_type": "code",
   "execution_count": 13,
   "id": "de31b12c",
   "metadata": {},
   "outputs": [],
   "source": [
    "\n",
    "# Carga CSV\n",
    "bank_df = pd.read_csv('../datos/bank-additional.csv', sep=',')\n",
    "\n",
    "\n"
   ]
  },
  {
   "cell_type": "code",
   "execution_count": 16,
   "id": "e5f435da",
   "metadata": {},
   "outputs": [],
   "source": [
    "\n",
    "# Carga Excel con varias hojas\n",
    "customer_df_2012 = pd.read_excel('../datos/customer-details.xlsx', sheet_name='2012')\n",
    "customer_df_2013 = pd.read_excel('../datos/customer-details.xlsx', sheet_name='2013')\n",
    "customer_df_2014 = pd.read_excel('../datos/customer-details.xlsx', sheet_name='2014')\n"
   ]
  },
  {
   "cell_type": "code",
   "execution_count": null,
   "id": "2d7fa5c7",
   "metadata": {},
   "outputs": [],
   "source": []
  }
 ],
 "metadata": {
  "kernelspec": {
   "display_name": "Python 3",
   "language": "python",
   "name": "python3"
  },
  "language_info": {
   "codemirror_mode": {
    "name": "ipython",
    "version": 3
   },
   "file_extension": ".py",
   "mimetype": "text/x-python",
   "name": "python",
   "nbconvert_exporter": "python",
   "pygments_lexer": "ipython3",
   "version": "3.13.1"
  }
 },
 "nbformat": 4,
 "nbformat_minor": 5
}
